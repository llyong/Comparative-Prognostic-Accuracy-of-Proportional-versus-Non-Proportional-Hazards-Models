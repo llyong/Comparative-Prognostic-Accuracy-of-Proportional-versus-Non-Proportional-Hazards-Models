{
 "cells": [
  {
   "cell_type": "code",
   "execution_count": null,
   "id": "5a7e8281",
   "metadata": {},
   "outputs": [],
   "source": [
    "# Import the data, with missing values represented by NaN\n",
    "import pandas as pd\n",
    "import numpy as np\n",
    "\n",
    "df_os = pd.read_excel('seerdata4paper2os.xlsx') \n",
    "df_css = pd.read_excel('seerdata4paper2css.xlsx') \n",
    "\n",
    "# Remove unused columns\n",
    "df_os = df_os.drop(columns=['Unnamed: 0','Survival_months','COD to site recode ICD-O-3 2023 Revision','COD'])\n",
    "df_css = df_css.drop(columns=['Unnamed: 0','Survival_months','COD to site recode ICD-O-3 2023 Revision','COD'])\n",
    "\n",
    "# Set categorical features' data as category\n",
    "nan_cols = ['Sex', 'Race',\n",
    "       'Marital_status_at_diagnosis', 'Tumor_location', 'Tumor_grade',\n",
    "       'Tumor_size', 'AJCC_Stage', 'Mitotic_rate', 'Surgery',\n",
    "       'Regional_nodes_examined', 'Chemotherapy']\n",
    "for col in nan_cols:\n",
    "    df_os[col] = df_os[col].astype('category')\n",
    "    df_css[col] = df_css[col].astype('category')\n",
    "\n",
    "# Categories are mapped to numbers - append 0 to the file suffix\n",
    "df_os0 = df_os.copy(deep=True)\n",
    "df_css0 = df_css.copy(deep=True)\n",
    "for data in [df_os0,df_css0]:\n",
    "    data['Sex']=data['Sex'].map({'Female':0,'Male':1})\n",
    "    data['Race']=data['Race'].map({'others':0,'White':1,'Black':2})\n",
    "    data['Marital_status_at_diagnosis']=data['Marital_status_at_diagnosis'].map({'Single':0,'Married':1})\n",
    "    data['Tumor_location']=data['Tumor_location'].map({'Cardia':0,'Fundus':0,'Body':1,'Antrum and Pylorus':2})\n",
    "    data['Tumor_grade']=data['Tumor_grade'].map({'Well/moderately differentiated':0,'Poorly differentiated/undifferentiated':1})\n",
    "    data['Tumor_size']=data['Tumor_size'].map({'≤2 cm':0,'2-5cm':1,'5-10cm':2,'>10cm':3})\n",
    "    data['AJCC_Stage']=data['AJCC_Stage'].map({'Ⅰ':0,'Ⅱ':1,'Ⅲ':2,'Ⅳ':3})\n",
    "    data['Mitotic_rate']=data['Mitotic_rate'].map({'≤5/5mm2 HPF':0,'>5/5mm2 HP':1})\n",
    "    data['Surgery']=data['Surgery'].map({'No Surgery':0,'Local excision':1,'Radical excision':2})\n",
    "    data['Regional_nodes_examined']=data['Regional_nodes_examined'].map({0:0,'1-4':1,'>4':2})\n",
    "    data['Chemotherapy']=data['Chemotherapy'].map({'No/Unknown':0,'Yes':1})\n",
    "\n",
    "# The Tumor_location category has been changed and needs to be reset as category\n",
    "col = 'Tumor_location'\n",
    "df_os0[col] = df_os0[col].astype('category')\n",
    "df_css0[col] = df_css0[col].astype('category')\n",
    "df_css0.dtypes"
   ]
  },
  {
   "cell_type": "code",
   "execution_count": null,
   "id": "028ec0c9",
   "metadata": {},
   "outputs": [],
   "source": [
    "# Use MICE with catboost for missing value imputation, make sure to import misscatboosts first\n",
    "# https://github.com/llyong/MissCatboosts\n",
    "from misscatboosts.misscatboosts import MissCatboosts\n",
    "\n",
    "mc = MissCatboosts()\n",
    "data_imputed = mc.fit_transform(\n",
    "    X=df_css0,\n",
    "    categorical=[\"sex\", \"Race\", \"Marital_status_at_diagnosis\",\"Tumor_location\",\"Tumor_grade\",\n",
    "                 \"Tumor_size\",\"AJCC_Stage\",\"Mitotic_rate\",\"Surgery\",\"Regional_nodes_examined\",\"Chemotherapy\"]\n",
    ")\n"
   ]
  },
  {
   "cell_type": "code",
   "execution_count": null,
   "id": "3a53d472",
   "metadata": {},
   "outputs": [],
   "source": [
    "# Convert numerical variables to categorical\n",
    "column_names = ['Age_at_diagnosis', 'Sex', 'Race', 'Marital_status_at_diagnosis',\n",
    "       'Tumor_location', 'Tumor_grade', 'Tumor_size', 'AJCC_Stage',\n",
    "       'Mitotic_rate', 'Surgery', 'Regional_nodes_examined', 'Chemotherapy'] \n",
    "df_css0_complete =  pd.DataFrame(data_imputed,columns = column_names)\n",
    "\n",
    "\n",
    "for data in [df_css0_complete]:\n",
    "    data['Sex']=data['Sex'].map({0:'Female',1:'Male'})\n",
    "    data['Race']=data['Race'].map({0:'others',1:'White',2:'Black'})\n",
    "    data['Marital_status_at_diagnosis']=data['Marital_status_at_diagnosis'].map({0:'Single',1:'Married'})\n",
    "    data['Tumor_location']=data['Tumor_location'].map({0:'Cardia_Fundus',1:'Body',2:'Antrum_Pylorus'})\n",
    "    data['Tumor_grade']=data['Tumor_grade'].map({0:'Well_moderately_differentiated',1:'Poorly_differentiated_undifferentiated'})\n",
    "    data['Tumor_size']=data['Tumor_size'].map({0:'smaller_2cm',1:'2_5cm',2:'5_10cm',3:'bigger_10cm'})\n",
    "    data['AJCC_Stage']=data['AJCC_Stage'].map({0:1,1:2,2:3,3:4})\n",
    "    data['Mitotic_rate']=data['Mitotic_rate'].map({0:'smaller_5HPF',1:'bigger_5HPF'})\n",
    "    data['Surgery']=data['Surgery'].map({0:'NoSurgery',1:'Local_excision',2:'Radical_excision'})\n",
    "    data['Regional_nodes_examined']=data['Regional_nodes_examined'].map({0:0,1:'1to4',2:'bigger_4'})\n",
    "    data['Chemotherapy']=data['Chemotherapy'].map({0:'No_Unknown',1:'Yes'})\n",
    "\n",
    "df_css0_complete['Survival_months'] = df_css['Survival_months']\n",
    "df_css0_complete['COD'] = df_css['COD']\n",
    "df_css0_complete.to_csv('df_css0_complete_11.csv',index=False) \n"
   ]
  },
  {
   "cell_type": "code",
   "execution_count": null,
   "id": "2489e45c",
   "metadata": {},
   "outputs": [],
   "source": []
  },
  {
   "cell_type": "code",
   "execution_count": null,
   "id": "5f49ffcc",
   "metadata": {},
   "outputs": [],
   "source": []
  }
 ],
 "metadata": {
  "kernelspec": {
   "display_name": "Python 3 (ipykernel)",
   "language": "python",
   "name": "python3"
  },
  "language_info": {
   "codemirror_mode": {
    "name": "ipython",
    "version": 3
   },
   "file_extension": ".py",
   "mimetype": "text/x-python",
   "name": "python",
   "nbconvert_exporter": "python",
   "pygments_lexer": "ipython3",
   "version": "3.9.13"
  },
  "toc": {
   "base_numbering": 1,
   "nav_menu": {},
   "number_sections": true,
   "sideBar": true,
   "skip_h1_title": false,
   "title_cell": "Table of Contents",
   "title_sidebar": "Contents",
   "toc_cell": false,
   "toc_position": {},
   "toc_section_display": true,
   "toc_window_display": false
  }
 },
 "nbformat": 4,
 "nbformat_minor": 5
}
